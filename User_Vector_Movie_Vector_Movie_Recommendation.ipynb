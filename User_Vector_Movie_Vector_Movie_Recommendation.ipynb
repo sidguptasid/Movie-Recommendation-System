{
  "cells": [
    {
      "cell_type": "code",
      "execution_count": 1,
      "metadata": {
        "id": "_Bxr01G3mdy3"
      },
      "outputs": [],
      "source": [
        "import pandas as pd\n",
        "import numpy as np"
      ]
    },
    {
      "cell_type": "code",
      "execution_count": 2,
      "metadata": {
        "colab": {
          "base_uri": "https://localhost:8080/"
        },
        "id": "wwEp4W_WZ9AR",
        "outputId": "67d2c776-fbb1-435c-aa63-49cd8d5c4d1b"
      },
      "outputs": [
        {
          "name": "stdout",
          "output_type": "stream",
          "text": [
            "Archive:  ml-latest-small.zip\n",
            "   creating: ml-latest-small/\n",
            "  inflating: ml-latest-small/links.csv  \n",
            "  inflating: ml-latest-small/tags.csv  \n",
            "  inflating: ml-latest-small/ratings.csv  \n",
            "  inflating: ml-latest-small/README.txt  \n",
            "  inflating: ml-latest-small/movies.csv  \n"
          ]
        }
      ],
      "source": [
        "!unzip ml-latest-small.zip"
      ]
    },
    {
      "cell_type": "code",
      "execution_count": 3,
      "metadata": {
        "id": "zA6DikZzm1qh"
      },
      "outputs": [],
      "source": [
        "movies = pd.read_csv('ml-latest-small/movies.csv')\n",
        "ratings = pd.read_csv('ml-latest-small/ratings.csv')\n",
        "tags = pd.read_csv('ml-latest-small/tags.csv')"
      ]
    },
    {
      "cell_type": "code",
      "execution_count": 4,
      "metadata": {
        "colab": {
          "base_uri": "https://localhost:8080/",
          "height": 206
        },
        "id": "FJhgecZrn3C0",
        "outputId": "88914ab7-e159-42e5-a46f-47937bbdc3c4"
      },
      "outputs": [
        {
          "data": {
            "text/html": [
              "\n",
              "  <div id=\"df-8773fe9c-581c-432b-95aa-fc0efb67fc85\">\n",
              "    <div class=\"colab-df-container\">\n",
              "      <div>\n",
              "<style scoped>\n",
              "    .dataframe tbody tr th:only-of-type {\n",
              "        vertical-align: middle;\n",
              "    }\n",
              "\n",
              "    .dataframe tbody tr th {\n",
              "        vertical-align: top;\n",
              "    }\n",
              "\n",
              "    .dataframe thead th {\n",
              "        text-align: right;\n",
              "    }\n",
              "</style>\n",
              "<table border=\"1\" class=\"dataframe\">\n",
              "  <thead>\n",
              "    <tr style=\"text-align: right;\">\n",
              "      <th></th>\n",
              "      <th>userId</th>\n",
              "      <th>movieId</th>\n",
              "      <th>rating</th>\n",
              "      <th>timestamp</th>\n",
              "      <th>genres</th>\n",
              "    </tr>\n",
              "  </thead>\n",
              "  <tbody>\n",
              "    <tr>\n",
              "      <th>0</th>\n",
              "      <td>1</td>\n",
              "      <td>1</td>\n",
              "      <td>4.0</td>\n",
              "      <td>964982703</td>\n",
              "      <td>Adventure|Animation|Children|Comedy|Fantasy</td>\n",
              "    </tr>\n",
              "    <tr>\n",
              "      <th>1</th>\n",
              "      <td>1</td>\n",
              "      <td>3</td>\n",
              "      <td>4.0</td>\n",
              "      <td>964981247</td>\n",
              "      <td>Comedy|Romance</td>\n",
              "    </tr>\n",
              "    <tr>\n",
              "      <th>2</th>\n",
              "      <td>1</td>\n",
              "      <td>6</td>\n",
              "      <td>4.0</td>\n",
              "      <td>964982224</td>\n",
              "      <td>Action|Crime|Thriller</td>\n",
              "    </tr>\n",
              "    <tr>\n",
              "      <th>3</th>\n",
              "      <td>1</td>\n",
              "      <td>47</td>\n",
              "      <td>5.0</td>\n",
              "      <td>964983815</td>\n",
              "      <td>Mystery|Thriller</td>\n",
              "    </tr>\n",
              "    <tr>\n",
              "      <th>4</th>\n",
              "      <td>1</td>\n",
              "      <td>50</td>\n",
              "      <td>5.0</td>\n",
              "      <td>964982931</td>\n",
              "      <td>Crime|Mystery|Thriller</td>\n",
              "    </tr>\n",
              "  </tbody>\n",
              "</table>\n",
              "</div>\n",
              "      <button class=\"colab-df-convert\" onclick=\"convertToInteractive('df-8773fe9c-581c-432b-95aa-fc0efb67fc85')\"\n",
              "              title=\"Convert this dataframe to an interactive table.\"\n",
              "              style=\"display:none;\">\n",
              "        \n",
              "  <svg xmlns=\"http://www.w3.org/2000/svg\" height=\"24px\"viewBox=\"0 0 24 24\"\n",
              "       width=\"24px\">\n",
              "    <path d=\"M0 0h24v24H0V0z\" fill=\"none\"/>\n",
              "    <path d=\"M18.56 5.44l.94 2.06.94-2.06 2.06-.94-2.06-.94-.94-2.06-.94 2.06-2.06.94zm-11 1L8.5 8.5l.94-2.06 2.06-.94-2.06-.94L8.5 2.5l-.94 2.06-2.06.94zm10 10l.94 2.06.94-2.06 2.06-.94-2.06-.94-.94-2.06-.94 2.06-2.06.94z\"/><path d=\"M17.41 7.96l-1.37-1.37c-.4-.4-.92-.59-1.43-.59-.52 0-1.04.2-1.43.59L10.3 9.45l-7.72 7.72c-.78.78-.78 2.05 0 2.83L4 21.41c.39.39.9.59 1.41.59.51 0 1.02-.2 1.41-.59l7.78-7.78 2.81-2.81c.8-.78.8-2.07 0-2.86zM5.41 20L4 18.59l7.72-7.72 1.47 1.35L5.41 20z\"/>\n",
              "  </svg>\n",
              "      </button>\n",
              "      \n",
              "  <style>\n",
              "    .colab-df-container {\n",
              "      display:flex;\n",
              "      flex-wrap:wrap;\n",
              "      gap: 12px;\n",
              "    }\n",
              "\n",
              "    .colab-df-convert {\n",
              "      background-color: #E8F0FE;\n",
              "      border: none;\n",
              "      border-radius: 50%;\n",
              "      cursor: pointer;\n",
              "      display: none;\n",
              "      fill: #1967D2;\n",
              "      height: 32px;\n",
              "      padding: 0 0 0 0;\n",
              "      width: 32px;\n",
              "    }\n",
              "\n",
              "    .colab-df-convert:hover {\n",
              "      background-color: #E2EBFA;\n",
              "      box-shadow: 0px 1px 2px rgba(60, 64, 67, 0.3), 0px 1px 3px 1px rgba(60, 64, 67, 0.15);\n",
              "      fill: #174EA6;\n",
              "    }\n",
              "\n",
              "    [theme=dark] .colab-df-convert {\n",
              "      background-color: #3B4455;\n",
              "      fill: #D2E3FC;\n",
              "    }\n",
              "\n",
              "    [theme=dark] .colab-df-convert:hover {\n",
              "      background-color: #434B5C;\n",
              "      box-shadow: 0px 1px 3px 1px rgba(0, 0, 0, 0.15);\n",
              "      filter: drop-shadow(0px 1px 2px rgba(0, 0, 0, 0.3));\n",
              "      fill: #FFFFFF;\n",
              "    }\n",
              "  </style>\n",
              "\n",
              "      <script>\n",
              "        const buttonEl =\n",
              "          document.querySelector('#df-8773fe9c-581c-432b-95aa-fc0efb67fc85 button.colab-df-convert');\n",
              "        buttonEl.style.display =\n",
              "          google.colab.kernel.accessAllowed ? 'block' : 'none';\n",
              "\n",
              "        async function convertToInteractive(key) {\n",
              "          const element = document.querySelector('#df-8773fe9c-581c-432b-95aa-fc0efb67fc85');\n",
              "          const dataTable =\n",
              "            await google.colab.kernel.invokeFunction('convertToInteractive',\n",
              "                                                     [key], {});\n",
              "          if (!dataTable) return;\n",
              "\n",
              "          const docLinkHtml = 'Like what you see? Visit the ' +\n",
              "            '<a target=\"_blank\" href=https://colab.research.google.com/notebooks/data_table.ipynb>data table notebook</a>'\n",
              "            + ' to learn more about interactive tables.';\n",
              "          element.innerHTML = '';\n",
              "          dataTable['output_type'] = 'display_data';\n",
              "          await google.colab.output.renderOutput(dataTable, element);\n",
              "          const docLink = document.createElement('div');\n",
              "          docLink.innerHTML = docLinkHtml;\n",
              "          element.appendChild(docLink);\n",
              "        }\n",
              "      </script>\n",
              "    </div>\n",
              "  </div>\n",
              "  "
            ],
            "text/plain": [
              "   userId  movieId  rating  timestamp  \\\n",
              "0       1        1     4.0  964982703   \n",
              "1       1        3     4.0  964981247   \n",
              "2       1        6     4.0  964982224   \n",
              "3       1       47     5.0  964983815   \n",
              "4       1       50     5.0  964982931   \n",
              "\n",
              "                                        genres  \n",
              "0  Adventure|Animation|Children|Comedy|Fantasy  \n",
              "1                               Comedy|Romance  \n",
              "2                        Action|Crime|Thriller  \n",
              "3                             Mystery|Thriller  \n",
              "4                       Crime|Mystery|Thriller  "
            ]
          },
          "execution_count": 4,
          "metadata": {},
          "output_type": "execute_result"
        }
      ],
      "source": [
        "df = pd.merge(ratings, movies, on='movieId' , how='left')\n",
        "df = df.drop('title', axis=1)\n",
        "df.head(5)"
      ]
    },
    {
      "cell_type": "code",
      "execution_count": 5,
      "metadata": {
        "id": "1QX_L7Lxn5gW"
      },
      "outputs": [],
      "source": [
        "df['genres'] = df['genres'].str.split('|')"
      ]
    },
    {
      "cell_type": "code",
      "execution_count": 6,
      "metadata": {
        "id": "AbeNX2-zn8Tg"
      },
      "outputs": [],
      "source": [
        "tags['tag'] = tags['tag'].str.split('|')\n",
        "tags.drop('timestamp', axis=1, inplace=True)"
      ]
    },
    {
      "cell_type": "code",
      "execution_count": 7,
      "metadata": {
        "colab": {
          "base_uri": "https://localhost:8080/",
          "height": 206
        },
        "id": "7jvROEpln_N3",
        "outputId": "4eab7cba-5287-419d-e13a-af9f09570c08"
      },
      "outputs": [
        {
          "data": {
            "text/html": [
              "\n",
              "  <div id=\"df-17bc5e35-9197-4317-a4c8-15680ce7f9b0\">\n",
              "    <div class=\"colab-df-container\">\n",
              "      <div>\n",
              "<style scoped>\n",
              "    .dataframe tbody tr th:only-of-type {\n",
              "        vertical-align: middle;\n",
              "    }\n",
              "\n",
              "    .dataframe tbody tr th {\n",
              "        vertical-align: top;\n",
              "    }\n",
              "\n",
              "    .dataframe thead th {\n",
              "        text-align: right;\n",
              "    }\n",
              "</style>\n",
              "<table border=\"1\" class=\"dataframe\">\n",
              "  <thead>\n",
              "    <tr style=\"text-align: right;\">\n",
              "      <th></th>\n",
              "      <th>userId</th>\n",
              "      <th>movieId</th>\n",
              "      <th>tag</th>\n",
              "    </tr>\n",
              "  </thead>\n",
              "  <tbody>\n",
              "    <tr>\n",
              "      <th>0</th>\n",
              "      <td>2</td>\n",
              "      <td>60756</td>\n",
              "      <td>['funny'],['Highly quotable'],['will ferrell']</td>\n",
              "    </tr>\n",
              "    <tr>\n",
              "      <th>1</th>\n",
              "      <td>2</td>\n",
              "      <td>89774</td>\n",
              "      <td>['Boxing story'],['MMA'],['Tom Hardy']</td>\n",
              "    </tr>\n",
              "    <tr>\n",
              "      <th>2</th>\n",
              "      <td>2</td>\n",
              "      <td>106782</td>\n",
              "      <td>['drugs'],['Leonardo DiCaprio'],['Martin Scors...</td>\n",
              "    </tr>\n",
              "    <tr>\n",
              "      <th>3</th>\n",
              "      <td>7</td>\n",
              "      <td>48516</td>\n",
              "      <td>['way too long']</td>\n",
              "    </tr>\n",
              "    <tr>\n",
              "      <th>4</th>\n",
              "      <td>18</td>\n",
              "      <td>431</td>\n",
              "      <td>['Al Pacino'],['gangster'],['mafia']</td>\n",
              "    </tr>\n",
              "  </tbody>\n",
              "</table>\n",
              "</div>\n",
              "      <button class=\"colab-df-convert\" onclick=\"convertToInteractive('df-17bc5e35-9197-4317-a4c8-15680ce7f9b0')\"\n",
              "              title=\"Convert this dataframe to an interactive table.\"\n",
              "              style=\"display:none;\">\n",
              "        \n",
              "  <svg xmlns=\"http://www.w3.org/2000/svg\" height=\"24px\"viewBox=\"0 0 24 24\"\n",
              "       width=\"24px\">\n",
              "    <path d=\"M0 0h24v24H0V0z\" fill=\"none\"/>\n",
              "    <path d=\"M18.56 5.44l.94 2.06.94-2.06 2.06-.94-2.06-.94-.94-2.06-.94 2.06-2.06.94zm-11 1L8.5 8.5l.94-2.06 2.06-.94-2.06-.94L8.5 2.5l-.94 2.06-2.06.94zm10 10l.94 2.06.94-2.06 2.06-.94-2.06-.94-.94-2.06-.94 2.06-2.06.94z\"/><path d=\"M17.41 7.96l-1.37-1.37c-.4-.4-.92-.59-1.43-.59-.52 0-1.04.2-1.43.59L10.3 9.45l-7.72 7.72c-.78.78-.78 2.05 0 2.83L4 21.41c.39.39.9.59 1.41.59.51 0 1.02-.2 1.41-.59l7.78-7.78 2.81-2.81c.8-.78.8-2.07 0-2.86zM5.41 20L4 18.59l7.72-7.72 1.47 1.35L5.41 20z\"/>\n",
              "  </svg>\n",
              "      </button>\n",
              "      \n",
              "  <style>\n",
              "    .colab-df-container {\n",
              "      display:flex;\n",
              "      flex-wrap:wrap;\n",
              "      gap: 12px;\n",
              "    }\n",
              "\n",
              "    .colab-df-convert {\n",
              "      background-color: #E8F0FE;\n",
              "      border: none;\n",
              "      border-radius: 50%;\n",
              "      cursor: pointer;\n",
              "      display: none;\n",
              "      fill: #1967D2;\n",
              "      height: 32px;\n",
              "      padding: 0 0 0 0;\n",
              "      width: 32px;\n",
              "    }\n",
              "\n",
              "    .colab-df-convert:hover {\n",
              "      background-color: #E2EBFA;\n",
              "      box-shadow: 0px 1px 2px rgba(60, 64, 67, 0.3), 0px 1px 3px 1px rgba(60, 64, 67, 0.15);\n",
              "      fill: #174EA6;\n",
              "    }\n",
              "\n",
              "    [theme=dark] .colab-df-convert {\n",
              "      background-color: #3B4455;\n",
              "      fill: #D2E3FC;\n",
              "    }\n",
              "\n",
              "    [theme=dark] .colab-df-convert:hover {\n",
              "      background-color: #434B5C;\n",
              "      box-shadow: 0px 1px 3px 1px rgba(0, 0, 0, 0.15);\n",
              "      filter: drop-shadow(0px 1px 2px rgba(0, 0, 0, 0.3));\n",
              "      fill: #FFFFFF;\n",
              "    }\n",
              "  </style>\n",
              "\n",
              "      <script>\n",
              "        const buttonEl =\n",
              "          document.querySelector('#df-17bc5e35-9197-4317-a4c8-15680ce7f9b0 button.colab-df-convert');\n",
              "        buttonEl.style.display =\n",
              "          google.colab.kernel.accessAllowed ? 'block' : 'none';\n",
              "\n",
              "        async function convertToInteractive(key) {\n",
              "          const element = document.querySelector('#df-17bc5e35-9197-4317-a4c8-15680ce7f9b0');\n",
              "          const dataTable =\n",
              "            await google.colab.kernel.invokeFunction('convertToInteractive',\n",
              "                                                     [key], {});\n",
              "          if (!dataTable) return;\n",
              "\n",
              "          const docLinkHtml = 'Like what you see? Visit the ' +\n",
              "            '<a target=\"_blank\" href=https://colab.research.google.com/notebooks/data_table.ipynb>data table notebook</a>'\n",
              "            + ' to learn more about interactive tables.';\n",
              "          element.innerHTML = '';\n",
              "          dataTable['output_type'] = 'display_data';\n",
              "          await google.colab.output.renderOutput(dataTable, element);\n",
              "          const docLink = document.createElement('div');\n",
              "          docLink.innerHTML = docLinkHtml;\n",
              "          element.appendChild(docLink);\n",
              "        }\n",
              "      </script>\n",
              "    </div>\n",
              "  </div>\n",
              "  "
            ],
            "text/plain": [
              "   userId  movieId                                                tag\n",
              "0       2    60756     ['funny'],['Highly quotable'],['will ferrell']\n",
              "1       2    89774             ['Boxing story'],['MMA'],['Tom Hardy']\n",
              "2       2   106782  ['drugs'],['Leonardo DiCaprio'],['Martin Scors...\n",
              "3       7    48516                                   ['way too long']\n",
              "4      18      431               ['Al Pacino'],['gangster'],['mafia']"
            ]
          },
          "execution_count": 7,
          "metadata": {},
          "output_type": "execute_result"
        }
      ],
      "source": [
        "tags = tags.groupby(['userId','movieId'])['tag'].apply(lambda x: ','.join(x.astype(str))).reset_index()\n",
        "tags.head(5)"
      ]
    },
    {
      "cell_type": "code",
      "execution_count": 8,
      "metadata": {
        "id": "68td_GsToCA2"
      },
      "outputs": [],
      "source": [
        "df = pd.merge(df, tags, on=['userId','movieId'], how='left')"
      ]
    },
    {
      "cell_type": "code",
      "execution_count": 9,
      "metadata": {
        "id": "Aqp8w1s8oFO7"
      },
      "outputs": [],
      "source": [
        "df['tag'] = df['tag'].apply(lambda d: d if isinstance(d, list) else [])\n",
        "df['genres'] = df['genres'].apply(lambda d: d if isinstance(d, list) else [])"
      ]
    },
    {
      "cell_type": "code",
      "execution_count": 10,
      "metadata": {
        "id": "h87GlQw-oH6A"
      },
      "outputs": [],
      "source": [
        "from sklearn.model_selection import train_test_split\n",
        "train_data, test_data = train_test_split(df, test_size=0.2, stratify=df.userId)"
      ]
    },
    {
      "cell_type": "code",
      "execution_count": 11,
      "metadata": {
        "colab": {
          "base_uri": "https://localhost:8080/"
        },
        "id": "yafOkELzoMh4",
        "outputId": "519aa472-5276-4903-c44a-263aaf0e0c21"
      },
      "outputs": [
        {
          "name": "stdout",
          "output_type": "stream",
          "text": [
            "        userId  movieId  rating   timestamp  \\\n",
            "0            1        1     4.0   964982703   \n",
            "2            1        6     4.0   964982224   \n",
            "3            1       47     5.0   964983815   \n",
            "4            1       50     5.0   964982931   \n",
            "5            1       70     3.0   964982400   \n",
            "...        ...      ...     ...         ...   \n",
            "100830     610   166528     4.0  1493879365   \n",
            "100831     610   166534     4.0  1493848402   \n",
            "100832     610   168248     5.0  1493850091   \n",
            "100833     610   168250     5.0  1494273047   \n",
            "100834     610   168252     5.0  1493846352   \n",
            "\n",
            "                                                   genres tag  \n",
            "0       [Adventure, Animation, Children, Comedy, Fantasy]  []  \n",
            "2                               [Action, Crime, Thriller]  []  \n",
            "3                                     [Mystery, Thriller]  []  \n",
            "4                              [Crime, Mystery, Thriller]  []  \n",
            "5                      [Action, Comedy, Horror, Thriller]  []  \n",
            "...                                                   ...  ..  \n",
            "100830               [Action, Adventure, Fantasy, Sci-Fi]  []  \n",
            "100831                          [Drama, Horror, Thriller]  []  \n",
            "100832                          [Action, Crime, Thriller]  []  \n",
            "100833                                           [Horror]  []  \n",
            "100834                                   [Action, Sci-Fi]  []  \n",
            "\n",
            "[80668 rows x 6 columns]\n"
          ]
        }
      ],
      "source": [
        "train_data = train_data.sort_values(['userId', 'movieId'])\n",
        "print(train_data)"
      ]
    },
    {
      "cell_type": "code",
      "execution_count": 12,
      "metadata": {
        "id": "iedTYMgloO-P"
      },
      "outputs": [],
      "source": [
        "test_data = test_data.sort_values(['userId','movieId'])\n",
        "train_data.to_csv('training_data.csv', index = False)\n",
        "test_data.to_csv('testing_data.csv', index = False)"
      ]
    },
    {
      "cell_type": "code",
      "execution_count": 13,
      "metadata": {
        "colab": {
          "base_uri": "https://localhost:8080/"
        },
        "id": "nirmsHQuqAl5",
        "outputId": "d3833e63-c0a2-4968-956b-a000cbbdf495"
      },
      "outputs": [
        {
          "name": "stdout",
          "output_type": "stream",
          "text": [
            "      movieId                                      title  \\\n",
            "0           1                           Toy Story (1995)   \n",
            "1           2                             Jumanji (1995)   \n",
            "2           3                    Grumpier Old Men (1995)   \n",
            "3           4                   Waiting to Exhale (1995)   \n",
            "4           5         Father of the Bride Part II (1995)   \n",
            "...       ...                                        ...   \n",
            "9737   193581  Black Butler: Book of the Atlantic (2017)   \n",
            "9738   193583               No Game No Life: Zero (2017)   \n",
            "9739   193585                               Flint (2017)   \n",
            "9740   193587        Bungo Stray Dogs: Dead Apple (2018)   \n",
            "9741   193609        Andrew Dice Clay: Dice Rules (1991)   \n",
            "\n",
            "                                                 genres  \n",
            "0     [Adventure, Animation, Children, Comedy, Fantasy]  \n",
            "1                        [Adventure, Children, Fantasy]  \n",
            "2                                     [Comedy, Romance]  \n",
            "3                              [Comedy, Drama, Romance]  \n",
            "4                                              [Comedy]  \n",
            "...                                                 ...  \n",
            "9737               [Action, Animation, Comedy, Fantasy]  \n",
            "9738                       [Animation, Comedy, Fantasy]  \n",
            "9739                                            [Drama]  \n",
            "9740                                [Action, Animation]  \n",
            "9741                                           [Comedy]  \n",
            "\n",
            "[9742 rows x 3 columns]\n"
          ]
        }
      ],
      "source": [
        "movies['genres'] = movies['genres'].str.split('|')\n",
        "movies['genres'] = movies['genres'].apply(lambda d: d if isinstance(d, list) else [])\n",
        "print(movies)"
      ]
    },
    {
      "cell_type": "code",
      "execution_count": 14,
      "metadata": {
        "id": "SbOSXr3voX3y"
      },
      "outputs": [],
      "source": [
        "import matplotlib.pyplot as plt\n",
        "from ast import literal_eval"
      ]
    },
    {
      "cell_type": "code",
      "execution_count": 15,
      "metadata": {
        "colab": {
          "base_uri": "https://localhost:8080/"
        },
        "id": "ldPHfRGXoqxP",
        "outputId": "8b465229-888b-44c0-c202-af0f1ab9e682"
      },
      "outputs": [
        {
          "data": {
            "text/plain": [
              "{'Adventure': 0,\n",
              " 'Animation': 1,\n",
              " 'Children': 2,\n",
              " 'Comedy': 3,\n",
              " 'Fantasy': 4,\n",
              " 'Romance': 5,\n",
              " 'Drama': 6,\n",
              " 'Action': 7,\n",
              " 'Crime': 8,\n",
              " 'Thriller': 9,\n",
              " 'Horror': 10,\n",
              " 'Mystery': 11,\n",
              " 'Sci-Fi': 12,\n",
              " 'War': 13,\n",
              " 'Musical': 14,\n",
              " 'Documentary': 15,\n",
              " 'IMAX': 16,\n",
              " 'Western': 17,\n",
              " 'Film-Noir': 18,\n",
              " '(no genres listed)': 19}"
            ]
          },
          "execution_count": 15,
          "metadata": {},
          "output_type": "execute_result"
        }
      ],
      "source": [
        "unique_genre = movies['genres'].explode().unique()\n",
        "genre_distribution = train_data['genres'].explode().value_counts()\n",
        "genre_dict = {k: v for v, k in enumerate(unique_genre)}\n",
        "genre_dict"
      ]
    },
    {
      "cell_type": "code",
      "execution_count": 16,
      "metadata": {
        "id": "rJJmsBy2yR8z"
      },
      "outputs": [],
      "source": [
        "movies['movie_vector'] = \"\"\n",
        "for ind, row in movies.iterrows():\n",
        "    genres = row.genres\n",
        "    movie_vector = np.zeros(len(genre_dict))\n",
        "\n",
        "    for g in genres:\n",
        "        movie_vector[genre_dict[g]] = 1\n",
        "    movies.at[ind, 'movie_vector'] = movie_vector\n",
        "\n",
        "# Save the final dataframe\n",
        "movies.to_csv(\"movie_vector.csv\")"
      ]
    },
    {
      "cell_type": "code",
      "execution_count": 17,
      "metadata": {
        "id": "OyJjdsqyyeAt"
      },
      "outputs": [],
      "source": [
        "user_ids = train_data['userId'].unique()\n",
        "user_df = pd.DataFrame(columns=['userId', 'user_vector', 'avg_rating', 'num_movies_rated'])\n",
        "                       \n",
        "for user_id in user_ids:\n",
        "#     print(user_id)\n",
        "    user_rating_df = train_data[(train_data['userId'] == user_id)]\n",
        "#     print(user_rating_df)\n",
        "\n",
        "    user_vector = np.zeros(len(genre_dict))\n",
        "    count_vector = np.zeros(len(genre_dict))\n",
        "    \n",
        "    user_avg_rating = 0\n",
        "    movies_rated_count = 0\n",
        "    \n",
        "    for _, row in user_rating_df.iterrows():\n",
        "        user_avg_rating += row.rating \n",
        "        movies_rated_count += 1\n",
        "        genres = row.genres\n",
        "\n",
        "        user_movie_vector = np.zeros(len(genre_dict))\n",
        "        \n",
        "        for g in genres:\n",
        "            user_movie_vector[genre_dict[g]] = 1\n",
        "            count_vector[genre_dict[g]] += 1\n",
        "            \n",
        "        user_vector += user_movie_vector*row.rating\n",
        "\n",
        "    count_vector = np.where(count_vector==0, 1, count_vector)\n",
        "    user_vector = np.divide(user_vector, count_vector)\n",
        "    user_avg_rating /= movies_rated_count\n",
        "    row_df = pd.DataFrame([[user_id, user_vector, user_avg_rating, movies_rated_count]], \n",
        "                          columns=['userId', 'user_vector', 'avg_rating', 'num_movies_rated'])\n",
        "#     print(row_df)\n",
        "    user_df = pd.concat([user_df, row_df], ignore_index=True)"
      ]
    },
    {
      "cell_type": "code",
      "execution_count": 18,
      "metadata": {
        "id": "fb2xWDgFyknI"
      },
      "outputs": [],
      "source": [
        "user_df.to_csv(\"user_info.csv\")"
      ]
    },
    {
      "cell_type": "code",
      "execution_count": 19,
      "metadata": {
        "colab": {
          "base_uri": "https://localhost:8080/",
          "height": 206
        },
        "id": "AnsohHnxyrCq",
        "outputId": "6165523e-6618-4c35-85c3-a7d71d7fae05"
      },
      "outputs": [
        {
          "data": {
            "text/html": [
              "\n",
              "  <div id=\"df-1bfff47d-e76e-4eb3-ab75-dccbc010d269\">\n",
              "    <div class=\"colab-df-container\">\n",
              "      <div>\n",
              "<style scoped>\n",
              "    .dataframe tbody tr th:only-of-type {\n",
              "        vertical-align: middle;\n",
              "    }\n",
              "\n",
              "    .dataframe tbody tr th {\n",
              "        vertical-align: top;\n",
              "    }\n",
              "\n",
              "    .dataframe thead th {\n",
              "        text-align: right;\n",
              "    }\n",
              "</style>\n",
              "<table border=\"1\" class=\"dataframe\">\n",
              "  <thead>\n",
              "    <tr style=\"text-align: right;\">\n",
              "      <th></th>\n",
              "      <th>userId</th>\n",
              "      <th>movieId</th>\n",
              "      <th>rating</th>\n",
              "      <th>timestamp</th>\n",
              "      <th>genres</th>\n",
              "      <th>tag</th>\n",
              "    </tr>\n",
              "  </thead>\n",
              "  <tbody>\n",
              "    <tr>\n",
              "      <th>0</th>\n",
              "      <td>1</td>\n",
              "      <td>3</td>\n",
              "      <td>4.0</td>\n",
              "      <td>964981247</td>\n",
              "      <td>[Comedy, Romance]</td>\n",
              "      <td>[]</td>\n",
              "    </tr>\n",
              "    <tr>\n",
              "      <th>1</th>\n",
              "      <td>1</td>\n",
              "      <td>151</td>\n",
              "      <td>5.0</td>\n",
              "      <td>964984041</td>\n",
              "      <td>[Action, Drama, Romance, War]</td>\n",
              "      <td>[]</td>\n",
              "    </tr>\n",
              "    <tr>\n",
              "      <th>2</th>\n",
              "      <td>1</td>\n",
              "      <td>223</td>\n",
              "      <td>3.0</td>\n",
              "      <td>964980985</td>\n",
              "      <td>[Comedy]</td>\n",
              "      <td>[]</td>\n",
              "    </tr>\n",
              "    <tr>\n",
              "      <th>3</th>\n",
              "      <td>1</td>\n",
              "      <td>260</td>\n",
              "      <td>5.0</td>\n",
              "      <td>964981680</td>\n",
              "      <td>[Action, Adventure, Sci-Fi]</td>\n",
              "      <td>[]</td>\n",
              "    </tr>\n",
              "    <tr>\n",
              "      <th>4</th>\n",
              "      <td>1</td>\n",
              "      <td>349</td>\n",
              "      <td>4.0</td>\n",
              "      <td>964982563</td>\n",
              "      <td>[Action, Crime, Drama, Thriller]</td>\n",
              "      <td>[]</td>\n",
              "    </tr>\n",
              "  </tbody>\n",
              "</table>\n",
              "</div>\n",
              "      <button class=\"colab-df-convert\" onclick=\"convertToInteractive('df-1bfff47d-e76e-4eb3-ab75-dccbc010d269')\"\n",
              "              title=\"Convert this dataframe to an interactive table.\"\n",
              "              style=\"display:none;\">\n",
              "        \n",
              "  <svg xmlns=\"http://www.w3.org/2000/svg\" height=\"24px\"viewBox=\"0 0 24 24\"\n",
              "       width=\"24px\">\n",
              "    <path d=\"M0 0h24v24H0V0z\" fill=\"none\"/>\n",
              "    <path d=\"M18.56 5.44l.94 2.06.94-2.06 2.06-.94-2.06-.94-.94-2.06-.94 2.06-2.06.94zm-11 1L8.5 8.5l.94-2.06 2.06-.94-2.06-.94L8.5 2.5l-.94 2.06-2.06.94zm10 10l.94 2.06.94-2.06 2.06-.94-2.06-.94-.94-2.06-.94 2.06-2.06.94z\"/><path d=\"M17.41 7.96l-1.37-1.37c-.4-.4-.92-.59-1.43-.59-.52 0-1.04.2-1.43.59L10.3 9.45l-7.72 7.72c-.78.78-.78 2.05 0 2.83L4 21.41c.39.39.9.59 1.41.59.51 0 1.02-.2 1.41-.59l7.78-7.78 2.81-2.81c.8-.78.8-2.07 0-2.86zM5.41 20L4 18.59l7.72-7.72 1.47 1.35L5.41 20z\"/>\n",
              "  </svg>\n",
              "      </button>\n",
              "      \n",
              "  <style>\n",
              "    .colab-df-container {\n",
              "      display:flex;\n",
              "      flex-wrap:wrap;\n",
              "      gap: 12px;\n",
              "    }\n",
              "\n",
              "    .colab-df-convert {\n",
              "      background-color: #E8F0FE;\n",
              "      border: none;\n",
              "      border-radius: 50%;\n",
              "      cursor: pointer;\n",
              "      display: none;\n",
              "      fill: #1967D2;\n",
              "      height: 32px;\n",
              "      padding: 0 0 0 0;\n",
              "      width: 32px;\n",
              "    }\n",
              "\n",
              "    .colab-df-convert:hover {\n",
              "      background-color: #E2EBFA;\n",
              "      box-shadow: 0px 1px 2px rgba(60, 64, 67, 0.3), 0px 1px 3px 1px rgba(60, 64, 67, 0.15);\n",
              "      fill: #174EA6;\n",
              "    }\n",
              "\n",
              "    [theme=dark] .colab-df-convert {\n",
              "      background-color: #3B4455;\n",
              "      fill: #D2E3FC;\n",
              "    }\n",
              "\n",
              "    [theme=dark] .colab-df-convert:hover {\n",
              "      background-color: #434B5C;\n",
              "      box-shadow: 0px 1px 3px 1px rgba(0, 0, 0, 0.15);\n",
              "      filter: drop-shadow(0px 1px 2px rgba(0, 0, 0, 0.3));\n",
              "      fill: #FFFFFF;\n",
              "    }\n",
              "  </style>\n",
              "\n",
              "      <script>\n",
              "        const buttonEl =\n",
              "          document.querySelector('#df-1bfff47d-e76e-4eb3-ab75-dccbc010d269 button.colab-df-convert');\n",
              "        buttonEl.style.display =\n",
              "          google.colab.kernel.accessAllowed ? 'block' : 'none';\n",
              "\n",
              "        async function convertToInteractive(key) {\n",
              "          const element = document.querySelector('#df-1bfff47d-e76e-4eb3-ab75-dccbc010d269');\n",
              "          const dataTable =\n",
              "            await google.colab.kernel.invokeFunction('convertToInteractive',\n",
              "                                                     [key], {});\n",
              "          if (!dataTable) return;\n",
              "\n",
              "          const docLinkHtml = 'Like what you see? Visit the ' +\n",
              "            '<a target=\"_blank\" href=https://colab.research.google.com/notebooks/data_table.ipynb>data table notebook</a>'\n",
              "            + ' to learn more about interactive tables.';\n",
              "          element.innerHTML = '';\n",
              "          dataTable['output_type'] = 'display_data';\n",
              "          await google.colab.output.renderOutput(dataTable, element);\n",
              "          const docLink = document.createElement('div');\n",
              "          docLink.innerHTML = docLinkHtml;\n",
              "          element.appendChild(docLink);\n",
              "        }\n",
              "      </script>\n",
              "    </div>\n",
              "  </div>\n",
              "  "
            ],
            "text/plain": [
              "   userId  movieId  rating  timestamp                            genres tag\n",
              "0       1        3     4.0  964981247                 [Comedy, Romance]  []\n",
              "1       1      151     5.0  964984041     [Action, Drama, Romance, War]  []\n",
              "2       1      223     3.0  964980985                          [Comedy]  []\n",
              "3       1      260     5.0  964981680       [Action, Adventure, Sci-Fi]  []\n",
              "4       1      349     4.0  964982563  [Action, Crime, Drama, Thriller]  []"
            ]
          },
          "execution_count": 19,
          "metadata": {},
          "output_type": "execute_result"
        }
      ],
      "source": [
        "ratings_test = pd.read_csv(\"testing_data.csv\", converters={\"genres\": literal_eval, \"tag\": literal_eval}) \n",
        "ratings_test.head()"
      ]
    },
    {
      "cell_type": "code",
      "execution_count": 20,
      "metadata": {
        "colab": {
          "base_uri": "https://localhost:8080/"
        },
        "id": "B-RPXqGJ4T_-",
        "outputId": "5ca04ae5-193b-4051-ae4c-ea2fc323dda7"
      },
      "outputs": [
        {
          "name": "stdout",
          "output_type": "stream",
          "text": [
            "[0. 0. 0. 0. 0. 0. 0. 1. 1. 1. 0. 0. 0. 0. 0. 0. 0. 0. 0. 0.]\n"
          ]
        }
      ],
      "source": [
        "genres = user_rating_df[user_rating_df['movieId']==6].genres.values[0]\n",
        "vector = np.zeros(len(genre_dict))\n",
        "for g in genres:\n",
        "    vector[genre_dict[g]] = 1\n",
        "print(vector)"
      ]
    },
    {
      "cell_type": "code",
      "execution_count": 21,
      "metadata": {
        "colab": {
          "base_uri": "https://localhost:8080/"
        },
        "id": "AU_DsS494hVw",
        "outputId": "294f7f72-cc00-412c-cb7c-778e4e381cfe"
      },
      "outputs": [
        {
          "data": {
            "text/plain": [
              "array([4.41176471, 4.57142857, 4.43333333, 4.31746032, 4.30555556,\n",
              "       4.44444444, 4.50909091, 4.34666667, 4.31578947, 4.2       ,\n",
              "       3.42857143, 4.1875    , 4.17647059, 4.47368421, 4.5625    ,\n",
              "       0.        , 0.        , 4.4       , 5.        , 0.        ])"
            ]
          },
          "execution_count": 21,
          "metadata": {},
          "output_type": "execute_result"
        }
      ],
      "source": [
        "user_df[user_df['userId']==1].user_vector[0]"
      ]
    },
    {
      "cell_type": "code",
      "execution_count": 22,
      "metadata": {
        "colab": {
          "base_uri": "https://localhost:8080/"
        },
        "id": "t5THgy9a4pSX",
        "outputId": "3b0f460f-e3eb-40a9-b959-22d797262626"
      },
      "outputs": [
        {
          "name": "stdout",
          "output_type": "stream",
          "text": [
            "[0.         0.         0.         0.         0.         0.\n",
            " 0.         4.34666667 4.31578947 4.2        0.         0.\n",
            " 0.         0.         0.         0.         0.         0.\n",
            " 0.         0.        ]\n"
          ]
        },
        {
          "data": {
            "text/plain": [
              "4.2874853801169595"
            ]
          },
          "execution_count": 22,
          "metadata": {},
          "output_type": "execute_result"
        }
      ],
      "source": [
        "x = vector*user_df[user_df['userId']==1].user_vector[0]\n",
        "print(x)\n",
        "np.nanmean(np.where(x!=0,x,np.nan)) "
      ]
    },
    {
      "cell_type": "code",
      "execution_count": 23,
      "metadata": {
        "id": "d4yHWOyv4_ss"
      },
      "outputs": [],
      "source": [
        "algo_predictions = pd.DataFrame(columns=['userId', 'movieId', 'user_vector', 'movie_vector', 'og_rating', 'pred_rating'])\n",
        "for ind, row in ratings_test.iterrows():\n",
        "    userId = row['userId']\n",
        "    movieId = row['movieId']\n",
        "    og_rating = row['rating']\n",
        "#     print(userId)\n",
        "#     print(movieId)\n",
        "    \n",
        "    try:\n",
        "        user_vector = user_df[user_df['userId'] == int(userId)].user_vector.values[0]\n",
        "        movie_vector = movies[movies['movieId'] == int(movieId)].movie_vector.values[0]\n",
        "    #     print(user_vector)\n",
        "    #     print(movie_vector)\n",
        "\n",
        "        predicted_rating = user_vector*movie_vector\n",
        "    #     print(predicted_rating)\n",
        "        \n",
        "        if predicted_rating.any():\n",
        "            predicted_rating = np.nanmean(np.where(predicted_rating!=0, predicted_rating, np.nan)) \n",
        "    #     print(predicted_rating)\n",
        "        else:\n",
        "            predicted_rating = 0\n",
        "\n",
        "        row_df = pd.DataFrame([[userId, movieId, user_vector, movie_vector, og_rating, predicted_rating]], \n",
        "                    columns=['userId', 'movieId', 'user_vector', 'movie_vector', 'og_rating', 'pred_rating'])\n",
        "        algo_predictions = pd.concat([algo_predictions, row_df], ignore_index=True)\n",
        "    except:\n",
        "        print(\"User not found: \", userId)"
      ]
    },
    {
      "cell_type": "code",
      "execution_count": 24,
      "metadata": {
        "colab": {
          "base_uri": "https://localhost:8080/"
        },
        "id": "CJewlYsbApq2",
        "outputId": "4ac1b6ed-08ae-46d3-d3aa-134345f4b3af"
      },
      "outputs": [
        {
          "name": "stdout",
          "output_type": "stream",
          "text": [
            "      userId movieId                                        user_vector  \\\n",
            "0          1       3  [4.411764705882353, 4.571428571428571, 4.43333...   \n",
            "1          1     151  [4.411764705882353, 4.571428571428571, 4.43333...   \n",
            "2          1     223  [4.411764705882353, 4.571428571428571, 4.43333...   \n",
            "3          1     260  [4.411764705882353, 4.571428571428571, 4.43333...   \n",
            "4          1     349  [4.411764705882353, 4.571428571428571, 4.43333...   \n",
            "...      ...     ...                                                ...   \n",
            "20163    610  160341  [3.727906976744186, 3.962962962962963, 3.64444...   \n",
            "20164    610  160836  [3.727906976744186, 3.962962962962963, 3.64444...   \n",
            "20165    610  162350  [3.727906976744186, 3.962962962962963, 3.64444...   \n",
            "20166    610  163981  [3.727906976744186, 3.962962962962963, 3.64444...   \n",
            "20167    610  170875  [3.727906976744186, 3.962962962962963, 3.64444...   \n",
            "\n",
            "                                            movie_vector  og_rating  \\\n",
            "0      [0.0, 0.0, 0.0, 1.0, 0.0, 1.0, 0.0, 0.0, 0.0, ...        4.0   \n",
            "1      [0.0, 0.0, 0.0, 0.0, 0.0, 1.0, 1.0, 1.0, 0.0, ...        5.0   \n",
            "2      [0.0, 0.0, 0.0, 1.0, 0.0, 0.0, 0.0, 0.0, 0.0, ...        3.0   \n",
            "3      [1.0, 0.0, 0.0, 0.0, 0.0, 0.0, 0.0, 1.0, 0.0, ...        5.0   \n",
            "4      [0.0, 0.0, 0.0, 0.0, 0.0, 0.0, 1.0, 1.0, 1.0, ...        4.0   \n",
            "...                                                  ...        ...   \n",
            "20163  [0.0, 0.0, 0.0, 0.0, 0.0, 0.0, 0.0, 1.0, 0.0, ...        2.5   \n",
            "20164  [0.0, 0.0, 0.0, 0.0, 0.0, 0.0, 1.0, 1.0, 0.0, ...        3.0   \n",
            "20165  [0.0, 0.0, 0.0, 0.0, 0.0, 0.0, 0.0, 1.0, 0.0, ...        3.5   \n",
            "20166  [0.0, 0.0, 0.0, 0.0, 0.0, 0.0, 0.0, 0.0, 0.0, ...        3.5   \n",
            "20167  [0.0, 0.0, 0.0, 0.0, 0.0, 0.0, 1.0, 1.0, 1.0, ...        3.0   \n",
            "\n",
            "       pred_rating  \n",
            "0         4.380952  \n",
            "1         4.443472  \n",
            "2         4.317460  \n",
            "3         4.311634  \n",
            "4         4.342887  \n",
            "...            ...  \n",
            "20163     3.597136  \n",
            "20164     3.697303  \n",
            "20165     3.637263  \n",
            "20166     3.525424  \n",
            "20167     3.729283  \n",
            "\n",
            "[20168 rows x 6 columns]\n"
          ]
        }
      ],
      "source": [
        "print(algo_predictions)"
      ]
    },
    {
      "cell_type": "code",
      "execution_count": 25,
      "metadata": {
        "colab": {
          "base_uri": "https://localhost:8080/"
        },
        "id": "DuMUGUQr66dT",
        "outputId": "5f740300-d6b2-47bb-ed19-ce70929eef4d"
      },
      "outputs": [
        {
          "data": {
            "text/plain": [
              "0.9206736741830838"
            ]
          },
          "execution_count": 25,
          "metadata": {},
          "output_type": "execute_result"
        }
      ],
      "source": [
        "rmse = ((algo_predictions.og_rating - algo_predictions.pred_rating) ** 2).mean() ** .5\n",
        "rmse"
      ]
    },
    {
      "cell_type": "code",
      "execution_count": 26,
      "metadata": {
        "colab": {
          "base_uri": "https://localhost:8080/"
        },
        "id": "rhIthoTn69QT",
        "outputId": "ab4e548d-25f0-4181-9552-632f4d85295c"
      },
      "outputs": [
        {
          "data": {
            "text/plain": [
              "0.7117957531962288"
            ]
          },
          "execution_count": 26,
          "metadata": {},
          "output_type": "execute_result"
        }
      ],
      "source": [
        "mae = (((algo_predictions.og_rating - algo_predictions.pred_rating) ** 2) ** .5).mean()\n",
        "mae"
      ]
    },
    {
      "cell_type": "code",
      "execution_count": null,
      "metadata": {
        "id": "GHXLpKMffj18"
      },
      "outputs": [],
      "source": []
    }
  ],
  "metadata": {
    "colab": {
      "provenance": []
    },
    "kernelspec": {
      "display_name": "Python 3",
      "name": "python3"
    },
    "language_info": {
      "name": "python"
    }
  },
  "nbformat": 4,
  "nbformat_minor": 0
}
